{
  "nbformat": 4,
  "nbformat_minor": 0,
  "metadata": {
    "colab": {
      "provenance": []
    },
    "kernelspec": {
      "name": "python3",
      "display_name": "Python 3"
    },
    "language_info": {
      "name": "python"
    }
  },
  "cells": [
    {
      "cell_type": "markdown",
      "source": [
        "\n",
        "1. Find the dataset link and implement the same using Python code (Cleaning, Feature Selection, Feature Elimination, Root node Selection, Model Building and Visualization)\n",
        "2. Document to be uploaded in VTop 1) Objective 2) Dataset Link 3) Description of your work 4) Word document containing Implementation, Visualization of (Precision, Recall, F1 Score, Accuracy, TPR, FPR, RoC curve) 5) Conclusion"
      ],
      "metadata": {
        "id": "Sa_vj55bZmDb"
      }
    },
    {
      "cell_type": "code",
      "execution_count": null,
      "metadata": {
        "id": "2Je9df2uNzWX"
      },
      "outputs": [],
      "source": [
        "import pandas as pd\n",
        "import numpy as np\n",
        "import matplotlib.pyplot as plt"
      ]
    },
    {
      "cell_type": "code",
      "source": [
        "df=pd.read_csv(\"https://archive.ics.uci.edu/ml/machine-learning-databases/lung-cancer/lung-cancer.data\",header=None)"
      ],
      "metadata": {
        "id": "gQPLtTzhRnUC"
      },
      "execution_count": null,
      "outputs": []
    },
    {
      "cell_type": "code",
      "source": [
        "# Assign attribute names\n",
        "attribute_names = ['ClassLabel'] + [f'Attribute{i}' for i in range(1, 57)]  # Assuming 'ClassLabel' as the class attribute name\n",
        "\n",
        "# Set the column names\n",
        "df.columns = attribute_names\n",
        "\n",
        "# Print the updated dataset\n",
        "df.head()\n"
      ],
      "metadata": {
        "colab": {
          "base_uri": "https://localhost:8080/",
          "height": 299
        },
        "id": "SWMgGQEEU5EG",
        "outputId": "24fd43be-a3a3-408f-f7dd-2af7e27345f9"
      },
      "execution_count": null,
      "outputs": [
        {
          "output_type": "execute_result",
          "data": {
            "text/plain": [
              "   ClassLabel  Attribute1  Attribute2  Attribute3 Attribute4  Attribute5  \\\n",
              "0           1           0           3           0          ?           0   \n",
              "1           1           0           3           3          1           0   \n",
              "2           1           0           3           3          2           0   \n",
              "3           1           0           2           3          2           1   \n",
              "4           1           0           3           2          1           1   \n",
              "\n",
              "   Attribute6  Attribute7  Attribute8  Attribute9  ...  Attribute47  \\\n",
              "0           2           2           2           1  ...            2   \n",
              "1           3           1           3           1  ...            2   \n",
              "2           3           3           3           1  ...            2   \n",
              "3           3           3           3           1  ...            2   \n",
              "4           3           3           3           2  ...            2   \n",
              "\n",
              "   Attribute48  Attribute49  Attribute50  Attribute51  Attribute52  \\\n",
              "0            2            2            2            2            1   \n",
              "1            2            2            2            2            2   \n",
              "2            2            2            2            2            2   \n",
              "3            2            2            2            2            2   \n",
              "4            2            2            2            2            2   \n",
              "\n",
              "   Attribute53  Attribute54  Attribute55  Attribute56  \n",
              "0            1            1            2            2  \n",
              "1            2            1            2            2  \n",
              "2            2            2            1            2  \n",
              "3            2            2            2            2  \n",
              "4            2            1            2            2  \n",
              "\n",
              "[5 rows x 57 columns]"
            ],
            "text/html": [
              "\n",
              "  <div id=\"df-7f0958df-3f99-4565-9bc1-0c1a8c8af8bf\">\n",
              "    <div class=\"colab-df-container\">\n",
              "      <div>\n",
              "<style scoped>\n",
              "    .dataframe tbody tr th:only-of-type {\n",
              "        vertical-align: middle;\n",
              "    }\n",
              "\n",
              "    .dataframe tbody tr th {\n",
              "        vertical-align: top;\n",
              "    }\n",
              "\n",
              "    .dataframe thead th {\n",
              "        text-align: right;\n",
              "    }\n",
              "</style>\n",
              "<table border=\"1\" class=\"dataframe\">\n",
              "  <thead>\n",
              "    <tr style=\"text-align: right;\">\n",
              "      <th></th>\n",
              "      <th>ClassLabel</th>\n",
              "      <th>Attribute1</th>\n",
              "      <th>Attribute2</th>\n",
              "      <th>Attribute3</th>\n",
              "      <th>Attribute4</th>\n",
              "      <th>Attribute5</th>\n",
              "      <th>Attribute6</th>\n",
              "      <th>Attribute7</th>\n",
              "      <th>Attribute8</th>\n",
              "      <th>Attribute9</th>\n",
              "      <th>...</th>\n",
              "      <th>Attribute47</th>\n",
              "      <th>Attribute48</th>\n",
              "      <th>Attribute49</th>\n",
              "      <th>Attribute50</th>\n",
              "      <th>Attribute51</th>\n",
              "      <th>Attribute52</th>\n",
              "      <th>Attribute53</th>\n",
              "      <th>Attribute54</th>\n",
              "      <th>Attribute55</th>\n",
              "      <th>Attribute56</th>\n",
              "    </tr>\n",
              "  </thead>\n",
              "  <tbody>\n",
              "    <tr>\n",
              "      <th>0</th>\n",
              "      <td>1</td>\n",
              "      <td>0</td>\n",
              "      <td>3</td>\n",
              "      <td>0</td>\n",
              "      <td>?</td>\n",
              "      <td>0</td>\n",
              "      <td>2</td>\n",
              "      <td>2</td>\n",
              "      <td>2</td>\n",
              "      <td>1</td>\n",
              "      <td>...</td>\n",
              "      <td>2</td>\n",
              "      <td>2</td>\n",
              "      <td>2</td>\n",
              "      <td>2</td>\n",
              "      <td>2</td>\n",
              "      <td>1</td>\n",
              "      <td>1</td>\n",
              "      <td>1</td>\n",
              "      <td>2</td>\n",
              "      <td>2</td>\n",
              "    </tr>\n",
              "    <tr>\n",
              "      <th>1</th>\n",
              "      <td>1</td>\n",
              "      <td>0</td>\n",
              "      <td>3</td>\n",
              "      <td>3</td>\n",
              "      <td>1</td>\n",
              "      <td>0</td>\n",
              "      <td>3</td>\n",
              "      <td>1</td>\n",
              "      <td>3</td>\n",
              "      <td>1</td>\n",
              "      <td>...</td>\n",
              "      <td>2</td>\n",
              "      <td>2</td>\n",
              "      <td>2</td>\n",
              "      <td>2</td>\n",
              "      <td>2</td>\n",
              "      <td>2</td>\n",
              "      <td>2</td>\n",
              "      <td>1</td>\n",
              "      <td>2</td>\n",
              "      <td>2</td>\n",
              "    </tr>\n",
              "    <tr>\n",
              "      <th>2</th>\n",
              "      <td>1</td>\n",
              "      <td>0</td>\n",
              "      <td>3</td>\n",
              "      <td>3</td>\n",
              "      <td>2</td>\n",
              "      <td>0</td>\n",
              "      <td>3</td>\n",
              "      <td>3</td>\n",
              "      <td>3</td>\n",
              "      <td>1</td>\n",
              "      <td>...</td>\n",
              "      <td>2</td>\n",
              "      <td>2</td>\n",
              "      <td>2</td>\n",
              "      <td>2</td>\n",
              "      <td>2</td>\n",
              "      <td>2</td>\n",
              "      <td>2</td>\n",
              "      <td>2</td>\n",
              "      <td>1</td>\n",
              "      <td>2</td>\n",
              "    </tr>\n",
              "    <tr>\n",
              "      <th>3</th>\n",
              "      <td>1</td>\n",
              "      <td>0</td>\n",
              "      <td>2</td>\n",
              "      <td>3</td>\n",
              "      <td>2</td>\n",
              "      <td>1</td>\n",
              "      <td>3</td>\n",
              "      <td>3</td>\n",
              "      <td>3</td>\n",
              "      <td>1</td>\n",
              "      <td>...</td>\n",
              "      <td>2</td>\n",
              "      <td>2</td>\n",
              "      <td>2</td>\n",
              "      <td>2</td>\n",
              "      <td>2</td>\n",
              "      <td>2</td>\n",
              "      <td>2</td>\n",
              "      <td>2</td>\n",
              "      <td>2</td>\n",
              "      <td>2</td>\n",
              "    </tr>\n",
              "    <tr>\n",
              "      <th>4</th>\n",
              "      <td>1</td>\n",
              "      <td>0</td>\n",
              "      <td>3</td>\n",
              "      <td>2</td>\n",
              "      <td>1</td>\n",
              "      <td>1</td>\n",
              "      <td>3</td>\n",
              "      <td>3</td>\n",
              "      <td>3</td>\n",
              "      <td>2</td>\n",
              "      <td>...</td>\n",
              "      <td>2</td>\n",
              "      <td>2</td>\n",
              "      <td>2</td>\n",
              "      <td>2</td>\n",
              "      <td>2</td>\n",
              "      <td>2</td>\n",
              "      <td>2</td>\n",
              "      <td>1</td>\n",
              "      <td>2</td>\n",
              "      <td>2</td>\n",
              "    </tr>\n",
              "  </tbody>\n",
              "</table>\n",
              "<p>5 rows × 57 columns</p>\n",
              "</div>\n",
              "      <button class=\"colab-df-convert\" onclick=\"convertToInteractive('df-7f0958df-3f99-4565-9bc1-0c1a8c8af8bf')\"\n",
              "              title=\"Convert this dataframe to an interactive table.\"\n",
              "              style=\"display:none;\">\n",
              "        \n",
              "  <svg xmlns=\"http://www.w3.org/2000/svg\" height=\"24px\"viewBox=\"0 0 24 24\"\n",
              "       width=\"24px\">\n",
              "    <path d=\"M0 0h24v24H0V0z\" fill=\"none\"/>\n",
              "    <path d=\"M18.56 5.44l.94 2.06.94-2.06 2.06-.94-2.06-.94-.94-2.06-.94 2.06-2.06.94zm-11 1L8.5 8.5l.94-2.06 2.06-.94-2.06-.94L8.5 2.5l-.94 2.06-2.06.94zm10 10l.94 2.06.94-2.06 2.06-.94-2.06-.94-.94-2.06-.94 2.06-2.06.94z\"/><path d=\"M17.41 7.96l-1.37-1.37c-.4-.4-.92-.59-1.43-.59-.52 0-1.04.2-1.43.59L10.3 9.45l-7.72 7.72c-.78.78-.78 2.05 0 2.83L4 21.41c.39.39.9.59 1.41.59.51 0 1.02-.2 1.41-.59l7.78-7.78 2.81-2.81c.8-.78.8-2.07 0-2.86zM5.41 20L4 18.59l7.72-7.72 1.47 1.35L5.41 20z\"/>\n",
              "  </svg>\n",
              "      </button>\n",
              "      \n",
              "  <style>\n",
              "    .colab-df-container {\n",
              "      display:flex;\n",
              "      flex-wrap:wrap;\n",
              "      gap: 12px;\n",
              "    }\n",
              "\n",
              "    .colab-df-convert {\n",
              "      background-color: #E8F0FE;\n",
              "      border: none;\n",
              "      border-radius: 50%;\n",
              "      cursor: pointer;\n",
              "      display: none;\n",
              "      fill: #1967D2;\n",
              "      height: 32px;\n",
              "      padding: 0 0 0 0;\n",
              "      width: 32px;\n",
              "    }\n",
              "\n",
              "    .colab-df-convert:hover {\n",
              "      background-color: #E2EBFA;\n",
              "      box-shadow: 0px 1px 2px rgba(60, 64, 67, 0.3), 0px 1px 3px 1px rgba(60, 64, 67, 0.15);\n",
              "      fill: #174EA6;\n",
              "    }\n",
              "\n",
              "    [theme=dark] .colab-df-convert {\n",
              "      background-color: #3B4455;\n",
              "      fill: #D2E3FC;\n",
              "    }\n",
              "\n",
              "    [theme=dark] .colab-df-convert:hover {\n",
              "      background-color: #434B5C;\n",
              "      box-shadow: 0px 1px 3px 1px rgba(0, 0, 0, 0.15);\n",
              "      filter: drop-shadow(0px 1px 2px rgba(0, 0, 0, 0.3));\n",
              "      fill: #FFFFFF;\n",
              "    }\n",
              "  </style>\n",
              "\n",
              "      <script>\n",
              "        const buttonEl =\n",
              "          document.querySelector('#df-7f0958df-3f99-4565-9bc1-0c1a8c8af8bf button.colab-df-convert');\n",
              "        buttonEl.style.display =\n",
              "          google.colab.kernel.accessAllowed ? 'block' : 'none';\n",
              "\n",
              "        async function convertToInteractive(key) {\n",
              "          const element = document.querySelector('#df-7f0958df-3f99-4565-9bc1-0c1a8c8af8bf');\n",
              "          const dataTable =\n",
              "            await google.colab.kernel.invokeFunction('convertToInteractive',\n",
              "                                                     [key], {});\n",
              "          if (!dataTable) return;\n",
              "\n",
              "          const docLinkHtml = 'Like what you see? Visit the ' +\n",
              "            '<a target=\"_blank\" href=https://colab.research.google.com/notebooks/data_table.ipynb>data table notebook</a>'\n",
              "            + ' to learn more about interactive tables.';\n",
              "          element.innerHTML = '';\n",
              "          dataTable['output_type'] = 'display_data';\n",
              "          await google.colab.output.renderOutput(dataTable, element);\n",
              "          const docLink = document.createElement('div');\n",
              "          docLink.innerHTML = docLinkHtml;\n",
              "          element.appendChild(docLink);\n",
              "        }\n",
              "      </script>\n",
              "    </div>\n",
              "  </div>\n",
              "  "
            ]
          },
          "metadata": {},
          "execution_count": 4
        }
      ]
    },
    {
      "cell_type": "code",
      "source": [
        "df.describe()"
      ],
      "metadata": {
        "colab": {
          "base_uri": "https://localhost:8080/",
          "height": 393
        },
        "id": "-5XCRB2LV-ay",
        "outputId": "5ba21a12-3d50-4664-81f0-255be5753e4d"
      },
      "execution_count": null,
      "outputs": [
        {
          "output_type": "execute_result",
          "data": {
            "text/plain": [
              "       ClassLabel  Attribute1  Attribute2  Attribute3  Attribute5  Attribute6  \\\n",
              "count   32.000000   32.000000   32.000000   32.000000   32.000000   32.000000   \n",
              "mean     2.031250    0.031250    2.375000    2.031250    0.281250    2.187500   \n",
              "std      0.782237    0.176777    0.553581    1.031265    0.456803    0.737804   \n",
              "min      1.000000    0.000000    1.000000    0.000000    0.000000    1.000000   \n",
              "25%      1.000000    0.000000    2.000000    1.750000    0.000000    2.000000   \n",
              "50%      2.000000    0.000000    2.000000    2.000000    0.000000    2.000000   \n",
              "75%      3.000000    0.000000    3.000000    3.000000    1.000000    3.000000   \n",
              "max      3.000000    1.000000    3.000000    3.000000    1.000000    3.000000   \n",
              "\n",
              "       Attribute7  Attribute8  Attribute9  Attribute10  ...  Attribute47  \\\n",
              "count   32.000000   32.000000   32.000000    32.000000  ...    32.000000   \n",
              "mean     2.125000    2.406250    1.156250     1.406250  ...     2.062500   \n",
              "std      0.751343    0.756024    0.514899     0.559918  ...     0.245935   \n",
              "min      1.000000    1.000000    1.000000     1.000000  ...     2.000000   \n",
              "25%      2.000000    2.000000    1.000000     1.000000  ...     2.000000   \n",
              "50%      2.000000    3.000000    1.000000     1.000000  ...     2.000000   \n",
              "75%      3.000000    3.000000    1.000000     2.000000  ...     2.000000   \n",
              "max      3.000000    3.000000    3.000000     3.000000  ...     3.000000   \n",
              "\n",
              "       Attribute48  Attribute49  Attribute50  Attribute51  Attribute52  \\\n",
              "count    32.000000    32.000000    32.000000    32.000000    32.000000   \n",
              "mean      2.062500     2.000000     2.000000     2.000000     1.843750   \n",
              "std       0.245935     0.359211     0.359211     0.508001     0.447889   \n",
              "min       2.000000     1.000000     1.000000     1.000000     1.000000   \n",
              "25%       2.000000     2.000000     2.000000     2.000000     2.000000   \n",
              "50%       2.000000     2.000000     2.000000     2.000000     2.000000   \n",
              "75%       2.000000     2.000000     2.000000     2.000000     2.000000   \n",
              "max       3.000000     3.000000     3.000000     3.000000     3.000000   \n",
              "\n",
              "       Attribute53  Attribute54  Attribute55  Attribute56  \n",
              "count    32.000000    32.000000    32.000000    32.000000  \n",
              "mean      1.843750     1.562500     1.812500     1.718750  \n",
              "std       0.447889     0.504016     0.396558     0.456803  \n",
              "min       1.000000     1.000000     1.000000     1.000000  \n",
              "25%       2.000000     1.000000     2.000000     1.000000  \n",
              "50%       2.000000     2.000000     2.000000     2.000000  \n",
              "75%       2.000000     2.000000     2.000000     2.000000  \n",
              "max       3.000000     2.000000     2.000000     2.000000  \n",
              "\n",
              "[8 rows x 55 columns]"
            ],
            "text/html": [
              "\n",
              "  <div id=\"df-61501e7c-57f5-464b-9f0e-50a3dc0aba00\">\n",
              "    <div class=\"colab-df-container\">\n",
              "      <div>\n",
              "<style scoped>\n",
              "    .dataframe tbody tr th:only-of-type {\n",
              "        vertical-align: middle;\n",
              "    }\n",
              "\n",
              "    .dataframe tbody tr th {\n",
              "        vertical-align: top;\n",
              "    }\n",
              "\n",
              "    .dataframe thead th {\n",
              "        text-align: right;\n",
              "    }\n",
              "</style>\n",
              "<table border=\"1\" class=\"dataframe\">\n",
              "  <thead>\n",
              "    <tr style=\"text-align: right;\">\n",
              "      <th></th>\n",
              "      <th>ClassLabel</th>\n",
              "      <th>Attribute1</th>\n",
              "      <th>Attribute2</th>\n",
              "      <th>Attribute3</th>\n",
              "      <th>Attribute5</th>\n",
              "      <th>Attribute6</th>\n",
              "      <th>Attribute7</th>\n",
              "      <th>Attribute8</th>\n",
              "      <th>Attribute9</th>\n",
              "      <th>Attribute10</th>\n",
              "      <th>...</th>\n",
              "      <th>Attribute47</th>\n",
              "      <th>Attribute48</th>\n",
              "      <th>Attribute49</th>\n",
              "      <th>Attribute50</th>\n",
              "      <th>Attribute51</th>\n",
              "      <th>Attribute52</th>\n",
              "      <th>Attribute53</th>\n",
              "      <th>Attribute54</th>\n",
              "      <th>Attribute55</th>\n",
              "      <th>Attribute56</th>\n",
              "    </tr>\n",
              "  </thead>\n",
              "  <tbody>\n",
              "    <tr>\n",
              "      <th>count</th>\n",
              "      <td>32.000000</td>\n",
              "      <td>32.000000</td>\n",
              "      <td>32.000000</td>\n",
              "      <td>32.000000</td>\n",
              "      <td>32.000000</td>\n",
              "      <td>32.000000</td>\n",
              "      <td>32.000000</td>\n",
              "      <td>32.000000</td>\n",
              "      <td>32.000000</td>\n",
              "      <td>32.000000</td>\n",
              "      <td>...</td>\n",
              "      <td>32.000000</td>\n",
              "      <td>32.000000</td>\n",
              "      <td>32.000000</td>\n",
              "      <td>32.000000</td>\n",
              "      <td>32.000000</td>\n",
              "      <td>32.000000</td>\n",
              "      <td>32.000000</td>\n",
              "      <td>32.000000</td>\n",
              "      <td>32.000000</td>\n",
              "      <td>32.000000</td>\n",
              "    </tr>\n",
              "    <tr>\n",
              "      <th>mean</th>\n",
              "      <td>2.031250</td>\n",
              "      <td>0.031250</td>\n",
              "      <td>2.375000</td>\n",
              "      <td>2.031250</td>\n",
              "      <td>0.281250</td>\n",
              "      <td>2.187500</td>\n",
              "      <td>2.125000</td>\n",
              "      <td>2.406250</td>\n",
              "      <td>1.156250</td>\n",
              "      <td>1.406250</td>\n",
              "      <td>...</td>\n",
              "      <td>2.062500</td>\n",
              "      <td>2.062500</td>\n",
              "      <td>2.000000</td>\n",
              "      <td>2.000000</td>\n",
              "      <td>2.000000</td>\n",
              "      <td>1.843750</td>\n",
              "      <td>1.843750</td>\n",
              "      <td>1.562500</td>\n",
              "      <td>1.812500</td>\n",
              "      <td>1.718750</td>\n",
              "    </tr>\n",
              "    <tr>\n",
              "      <th>std</th>\n",
              "      <td>0.782237</td>\n",
              "      <td>0.176777</td>\n",
              "      <td>0.553581</td>\n",
              "      <td>1.031265</td>\n",
              "      <td>0.456803</td>\n",
              "      <td>0.737804</td>\n",
              "      <td>0.751343</td>\n",
              "      <td>0.756024</td>\n",
              "      <td>0.514899</td>\n",
              "      <td>0.559918</td>\n",
              "      <td>...</td>\n",
              "      <td>0.245935</td>\n",
              "      <td>0.245935</td>\n",
              "      <td>0.359211</td>\n",
              "      <td>0.359211</td>\n",
              "      <td>0.508001</td>\n",
              "      <td>0.447889</td>\n",
              "      <td>0.447889</td>\n",
              "      <td>0.504016</td>\n",
              "      <td>0.396558</td>\n",
              "      <td>0.456803</td>\n",
              "    </tr>\n",
              "    <tr>\n",
              "      <th>min</th>\n",
              "      <td>1.000000</td>\n",
              "      <td>0.000000</td>\n",
              "      <td>1.000000</td>\n",
              "      <td>0.000000</td>\n",
              "      <td>0.000000</td>\n",
              "      <td>1.000000</td>\n",
              "      <td>1.000000</td>\n",
              "      <td>1.000000</td>\n",
              "      <td>1.000000</td>\n",
              "      <td>1.000000</td>\n",
              "      <td>...</td>\n",
              "      <td>2.000000</td>\n",
              "      <td>2.000000</td>\n",
              "      <td>1.000000</td>\n",
              "      <td>1.000000</td>\n",
              "      <td>1.000000</td>\n",
              "      <td>1.000000</td>\n",
              "      <td>1.000000</td>\n",
              "      <td>1.000000</td>\n",
              "      <td>1.000000</td>\n",
              "      <td>1.000000</td>\n",
              "    </tr>\n",
              "    <tr>\n",
              "      <th>25%</th>\n",
              "      <td>1.000000</td>\n",
              "      <td>0.000000</td>\n",
              "      <td>2.000000</td>\n",
              "      <td>1.750000</td>\n",
              "      <td>0.000000</td>\n",
              "      <td>2.000000</td>\n",
              "      <td>2.000000</td>\n",
              "      <td>2.000000</td>\n",
              "      <td>1.000000</td>\n",
              "      <td>1.000000</td>\n",
              "      <td>...</td>\n",
              "      <td>2.000000</td>\n",
              "      <td>2.000000</td>\n",
              "      <td>2.000000</td>\n",
              "      <td>2.000000</td>\n",
              "      <td>2.000000</td>\n",
              "      <td>2.000000</td>\n",
              "      <td>2.000000</td>\n",
              "      <td>1.000000</td>\n",
              "      <td>2.000000</td>\n",
              "      <td>1.000000</td>\n",
              "    </tr>\n",
              "    <tr>\n",
              "      <th>50%</th>\n",
              "      <td>2.000000</td>\n",
              "      <td>0.000000</td>\n",
              "      <td>2.000000</td>\n",
              "      <td>2.000000</td>\n",
              "      <td>0.000000</td>\n",
              "      <td>2.000000</td>\n",
              "      <td>2.000000</td>\n",
              "      <td>3.000000</td>\n",
              "      <td>1.000000</td>\n",
              "      <td>1.000000</td>\n",
              "      <td>...</td>\n",
              "      <td>2.000000</td>\n",
              "      <td>2.000000</td>\n",
              "      <td>2.000000</td>\n",
              "      <td>2.000000</td>\n",
              "      <td>2.000000</td>\n",
              "      <td>2.000000</td>\n",
              "      <td>2.000000</td>\n",
              "      <td>2.000000</td>\n",
              "      <td>2.000000</td>\n",
              "      <td>2.000000</td>\n",
              "    </tr>\n",
              "    <tr>\n",
              "      <th>75%</th>\n",
              "      <td>3.000000</td>\n",
              "      <td>0.000000</td>\n",
              "      <td>3.000000</td>\n",
              "      <td>3.000000</td>\n",
              "      <td>1.000000</td>\n",
              "      <td>3.000000</td>\n",
              "      <td>3.000000</td>\n",
              "      <td>3.000000</td>\n",
              "      <td>1.000000</td>\n",
              "      <td>2.000000</td>\n",
              "      <td>...</td>\n",
              "      <td>2.000000</td>\n",
              "      <td>2.000000</td>\n",
              "      <td>2.000000</td>\n",
              "      <td>2.000000</td>\n",
              "      <td>2.000000</td>\n",
              "      <td>2.000000</td>\n",
              "      <td>2.000000</td>\n",
              "      <td>2.000000</td>\n",
              "      <td>2.000000</td>\n",
              "      <td>2.000000</td>\n",
              "    </tr>\n",
              "    <tr>\n",
              "      <th>max</th>\n",
              "      <td>3.000000</td>\n",
              "      <td>1.000000</td>\n",
              "      <td>3.000000</td>\n",
              "      <td>3.000000</td>\n",
              "      <td>1.000000</td>\n",
              "      <td>3.000000</td>\n",
              "      <td>3.000000</td>\n",
              "      <td>3.000000</td>\n",
              "      <td>3.000000</td>\n",
              "      <td>3.000000</td>\n",
              "      <td>...</td>\n",
              "      <td>3.000000</td>\n",
              "      <td>3.000000</td>\n",
              "      <td>3.000000</td>\n",
              "      <td>3.000000</td>\n",
              "      <td>3.000000</td>\n",
              "      <td>3.000000</td>\n",
              "      <td>3.000000</td>\n",
              "      <td>2.000000</td>\n",
              "      <td>2.000000</td>\n",
              "      <td>2.000000</td>\n",
              "    </tr>\n",
              "  </tbody>\n",
              "</table>\n",
              "<p>8 rows × 55 columns</p>\n",
              "</div>\n",
              "      <button class=\"colab-df-convert\" onclick=\"convertToInteractive('df-61501e7c-57f5-464b-9f0e-50a3dc0aba00')\"\n",
              "              title=\"Convert this dataframe to an interactive table.\"\n",
              "              style=\"display:none;\">\n",
              "        \n",
              "  <svg xmlns=\"http://www.w3.org/2000/svg\" height=\"24px\"viewBox=\"0 0 24 24\"\n",
              "       width=\"24px\">\n",
              "    <path d=\"M0 0h24v24H0V0z\" fill=\"none\"/>\n",
              "    <path d=\"M18.56 5.44l.94 2.06.94-2.06 2.06-.94-2.06-.94-.94-2.06-.94 2.06-2.06.94zm-11 1L8.5 8.5l.94-2.06 2.06-.94-2.06-.94L8.5 2.5l-.94 2.06-2.06.94zm10 10l.94 2.06.94-2.06 2.06-.94-2.06-.94-.94-2.06-.94 2.06-2.06.94z\"/><path d=\"M17.41 7.96l-1.37-1.37c-.4-.4-.92-.59-1.43-.59-.52 0-1.04.2-1.43.59L10.3 9.45l-7.72 7.72c-.78.78-.78 2.05 0 2.83L4 21.41c.39.39.9.59 1.41.59.51 0 1.02-.2 1.41-.59l7.78-7.78 2.81-2.81c.8-.78.8-2.07 0-2.86zM5.41 20L4 18.59l7.72-7.72 1.47 1.35L5.41 20z\"/>\n",
              "  </svg>\n",
              "      </button>\n",
              "      \n",
              "  <style>\n",
              "    .colab-df-container {\n",
              "      display:flex;\n",
              "      flex-wrap:wrap;\n",
              "      gap: 12px;\n",
              "    }\n",
              "\n",
              "    .colab-df-convert {\n",
              "      background-color: #E8F0FE;\n",
              "      border: none;\n",
              "      border-radius: 50%;\n",
              "      cursor: pointer;\n",
              "      display: none;\n",
              "      fill: #1967D2;\n",
              "      height: 32px;\n",
              "      padding: 0 0 0 0;\n",
              "      width: 32px;\n",
              "    }\n",
              "\n",
              "    .colab-df-convert:hover {\n",
              "      background-color: #E2EBFA;\n",
              "      box-shadow: 0px 1px 2px rgba(60, 64, 67, 0.3), 0px 1px 3px 1px rgba(60, 64, 67, 0.15);\n",
              "      fill: #174EA6;\n",
              "    }\n",
              "\n",
              "    [theme=dark] .colab-df-convert {\n",
              "      background-color: #3B4455;\n",
              "      fill: #D2E3FC;\n",
              "    }\n",
              "\n",
              "    [theme=dark] .colab-df-convert:hover {\n",
              "      background-color: #434B5C;\n",
              "      box-shadow: 0px 1px 3px 1px rgba(0, 0, 0, 0.15);\n",
              "      filter: drop-shadow(0px 1px 2px rgba(0, 0, 0, 0.3));\n",
              "      fill: #FFFFFF;\n",
              "    }\n",
              "  </style>\n",
              "\n",
              "      <script>\n",
              "        const buttonEl =\n",
              "          document.querySelector('#df-61501e7c-57f5-464b-9f0e-50a3dc0aba00 button.colab-df-convert');\n",
              "        buttonEl.style.display =\n",
              "          google.colab.kernel.accessAllowed ? 'block' : 'none';\n",
              "\n",
              "        async function convertToInteractive(key) {\n",
              "          const element = document.querySelector('#df-61501e7c-57f5-464b-9f0e-50a3dc0aba00');\n",
              "          const dataTable =\n",
              "            await google.colab.kernel.invokeFunction('convertToInteractive',\n",
              "                                                     [key], {});\n",
              "          if (!dataTable) return;\n",
              "\n",
              "          const docLinkHtml = 'Like what you see? Visit the ' +\n",
              "            '<a target=\"_blank\" href=https://colab.research.google.com/notebooks/data_table.ipynb>data table notebook</a>'\n",
              "            + ' to learn more about interactive tables.';\n",
              "          element.innerHTML = '';\n",
              "          dataTable['output_type'] = 'display_data';\n",
              "          await google.colab.output.renderOutput(dataTable, element);\n",
              "          const docLink = document.createElement('div');\n",
              "          docLink.innerHTML = docLinkHtml;\n",
              "          element.appendChild(docLink);\n",
              "        }\n",
              "      </script>\n",
              "    </div>\n",
              "  </div>\n",
              "  "
            ]
          },
          "metadata": {},
          "execution_count": 5
        }
      ]
    },
    {
      "cell_type": "markdown",
      "source": [
        "# Step 1: Data Cleaning"
      ],
      "metadata": {
        "id": "J18IHws9TL7-"
      }
    },
    {
      "cell_type": "markdown",
      "source": [
        "we can not drop the row beacuse number of row is less"
      ],
      "metadata": {
        "id": "y-T6AiFezjag"
      }
    },
    {
      "cell_type": "code",
      "source": [
        "# Replace missing values\n",
        "df = df.replace('?', pd.NA)\n"
      ],
      "metadata": {
        "id": "s4xN9_3xRz7d"
      },
      "execution_count": null,
      "outputs": []
    },
    {
      "cell_type": "markdown",
      "source": [
        "fill the null value with nearest integer of mean"
      ],
      "metadata": {
        "id": "KO1degcpz8vm"
      }
    },
    {
      "cell_type": "code",
      "source": [
        "# Convert \"Attribute4\" column to numeric\n",
        "df[\"Attribute4\"] = pd.to_numeric(df[\"Attribute4\"], errors=\"coerce\")\n",
        "\n",
        "# Calculate the mode of the \"Attribute4\" column\n",
        "attribute4_mode = df[\"Attribute4\"].mode()[0]\n",
        "\n",
        "# Fill the missing values in \"Attribute4\" with the mode\n",
        "df[\"Attribute4\"] = df[\"Attribute4\"].fillna(attribute4_mode)"
      ],
      "metadata": {
        "id": "Ct7z-gcuz8SO"
      },
      "execution_count": null,
      "outputs": []
    },
    {
      "cell_type": "code",
      "source": [
        "# Convert \"Attribute4\" column to numeric\n",
        "df[\"Attribute38\"] = pd.to_numeric(df[\"Attribute38\"], errors=\"coerce\")\n",
        "\n",
        "# Calculate the mode of the \"Attribute4\" column\n",
        "attribute4_mode = df[\"Attribute38\"].mode()[0]\n",
        "\n",
        "# Fill the missing values in \"Attribute4\" with the mode\n",
        "df[\"Attribute38\"] = df[\"Attribute38\"].fillna(attribute4_mode)"
      ],
      "metadata": {
        "id": "30BJmGXC1xvd"
      },
      "execution_count": null,
      "outputs": []
    },
    {
      "cell_type": "code",
      "source": [
        "print(df[\"Attribute38\"].describe())\n",
        "print(df[\"Attribute4\"].describe())"
      ],
      "metadata": {
        "colab": {
          "base_uri": "https://localhost:8080/"
        },
        "id": "JCRJO-qAz0Uk",
        "outputId": "38055bfa-db70-43a1-8f9f-08722356aafd"
      },
      "execution_count": null,
      "outputs": [
        {
          "output_type": "stream",
          "name": "stdout",
          "text": [
            "count    32.000000\n",
            "mean      1.718750\n",
            "std       0.581121\n",
            "min       1.000000\n",
            "25%       1.000000\n",
            "50%       2.000000\n",
            "75%       2.000000\n",
            "max       3.000000\n",
            "Name: Attribute38, dtype: float64\n",
            "count    32.000000\n",
            "mean      1.343750\n",
            "std       0.545325\n",
            "min       0.000000\n",
            "25%       1.000000\n",
            "50%       1.000000\n",
            "75%       2.000000\n",
            "max       2.000000\n",
            "Name: Attribute4, dtype: float64\n"
          ]
        }
      ]
    },
    {
      "cell_type": "code",
      "source": [
        "df.describe()"
      ],
      "metadata": {
        "colab": {
          "base_uri": "https://localhost:8080/",
          "height": 393
        },
        "id": "8sFk_l4eWhZ-",
        "outputId": "3e7b02d1-75e3-48c0-dd28-85c792463657"
      },
      "execution_count": null,
      "outputs": [
        {
          "output_type": "execute_result",
          "data": {
            "text/plain": [
              "       ClassLabel  Attribute1  Attribute2  Attribute3  Attribute4  Attribute5  \\\n",
              "count   32.000000   32.000000   32.000000   32.000000   32.000000   32.000000   \n",
              "mean     2.031250    0.031250    2.375000    2.031250    1.343750    0.281250   \n",
              "std      0.782237    0.176777    0.553581    1.031265    0.545325    0.456803   \n",
              "min      1.000000    0.000000    1.000000    0.000000    0.000000    0.000000   \n",
              "25%      1.000000    0.000000    2.000000    1.750000    1.000000    0.000000   \n",
              "50%      2.000000    0.000000    2.000000    2.000000    1.000000    0.000000   \n",
              "75%      3.000000    0.000000    3.000000    3.000000    2.000000    1.000000   \n",
              "max      3.000000    1.000000    3.000000    3.000000    2.000000    1.000000   \n",
              "\n",
              "       Attribute6  Attribute7  Attribute8  Attribute9  ...  Attribute47  \\\n",
              "count   32.000000   32.000000   32.000000   32.000000  ...    32.000000   \n",
              "mean     2.187500    2.125000    2.406250    1.156250  ...     2.062500   \n",
              "std      0.737804    0.751343    0.756024    0.514899  ...     0.245935   \n",
              "min      1.000000    1.000000    1.000000    1.000000  ...     2.000000   \n",
              "25%      2.000000    2.000000    2.000000    1.000000  ...     2.000000   \n",
              "50%      2.000000    2.000000    3.000000    1.000000  ...     2.000000   \n",
              "75%      3.000000    3.000000    3.000000    1.000000  ...     2.000000   \n",
              "max      3.000000    3.000000    3.000000    3.000000  ...     3.000000   \n",
              "\n",
              "       Attribute48  Attribute49  Attribute50  Attribute51  Attribute52  \\\n",
              "count    32.000000    32.000000    32.000000    32.000000    32.000000   \n",
              "mean      2.062500     2.000000     2.000000     2.000000     1.843750   \n",
              "std       0.245935     0.359211     0.359211     0.508001     0.447889   \n",
              "min       2.000000     1.000000     1.000000     1.000000     1.000000   \n",
              "25%       2.000000     2.000000     2.000000     2.000000     2.000000   \n",
              "50%       2.000000     2.000000     2.000000     2.000000     2.000000   \n",
              "75%       2.000000     2.000000     2.000000     2.000000     2.000000   \n",
              "max       3.000000     3.000000     3.000000     3.000000     3.000000   \n",
              "\n",
              "       Attribute53  Attribute54  Attribute55  Attribute56  \n",
              "count    32.000000    32.000000    32.000000    32.000000  \n",
              "mean      1.843750     1.562500     1.812500     1.718750  \n",
              "std       0.447889     0.504016     0.396558     0.456803  \n",
              "min       1.000000     1.000000     1.000000     1.000000  \n",
              "25%       2.000000     1.000000     2.000000     1.000000  \n",
              "50%       2.000000     2.000000     2.000000     2.000000  \n",
              "75%       2.000000     2.000000     2.000000     2.000000  \n",
              "max       3.000000     2.000000     2.000000     2.000000  \n",
              "\n",
              "[8 rows x 57 columns]"
            ],
            "text/html": [
              "\n",
              "  <div id=\"df-03f1b6e8-520b-4fb6-9f6c-373bf8a96741\">\n",
              "    <div class=\"colab-df-container\">\n",
              "      <div>\n",
              "<style scoped>\n",
              "    .dataframe tbody tr th:only-of-type {\n",
              "        vertical-align: middle;\n",
              "    }\n",
              "\n",
              "    .dataframe tbody tr th {\n",
              "        vertical-align: top;\n",
              "    }\n",
              "\n",
              "    .dataframe thead th {\n",
              "        text-align: right;\n",
              "    }\n",
              "</style>\n",
              "<table border=\"1\" class=\"dataframe\">\n",
              "  <thead>\n",
              "    <tr style=\"text-align: right;\">\n",
              "      <th></th>\n",
              "      <th>ClassLabel</th>\n",
              "      <th>Attribute1</th>\n",
              "      <th>Attribute2</th>\n",
              "      <th>Attribute3</th>\n",
              "      <th>Attribute4</th>\n",
              "      <th>Attribute5</th>\n",
              "      <th>Attribute6</th>\n",
              "      <th>Attribute7</th>\n",
              "      <th>Attribute8</th>\n",
              "      <th>Attribute9</th>\n",
              "      <th>...</th>\n",
              "      <th>Attribute47</th>\n",
              "      <th>Attribute48</th>\n",
              "      <th>Attribute49</th>\n",
              "      <th>Attribute50</th>\n",
              "      <th>Attribute51</th>\n",
              "      <th>Attribute52</th>\n",
              "      <th>Attribute53</th>\n",
              "      <th>Attribute54</th>\n",
              "      <th>Attribute55</th>\n",
              "      <th>Attribute56</th>\n",
              "    </tr>\n",
              "  </thead>\n",
              "  <tbody>\n",
              "    <tr>\n",
              "      <th>count</th>\n",
              "      <td>32.000000</td>\n",
              "      <td>32.000000</td>\n",
              "      <td>32.000000</td>\n",
              "      <td>32.000000</td>\n",
              "      <td>32.000000</td>\n",
              "      <td>32.000000</td>\n",
              "      <td>32.000000</td>\n",
              "      <td>32.000000</td>\n",
              "      <td>32.000000</td>\n",
              "      <td>32.000000</td>\n",
              "      <td>...</td>\n",
              "      <td>32.000000</td>\n",
              "      <td>32.000000</td>\n",
              "      <td>32.000000</td>\n",
              "      <td>32.000000</td>\n",
              "      <td>32.000000</td>\n",
              "      <td>32.000000</td>\n",
              "      <td>32.000000</td>\n",
              "      <td>32.000000</td>\n",
              "      <td>32.000000</td>\n",
              "      <td>32.000000</td>\n",
              "    </tr>\n",
              "    <tr>\n",
              "      <th>mean</th>\n",
              "      <td>2.031250</td>\n",
              "      <td>0.031250</td>\n",
              "      <td>2.375000</td>\n",
              "      <td>2.031250</td>\n",
              "      <td>1.343750</td>\n",
              "      <td>0.281250</td>\n",
              "      <td>2.187500</td>\n",
              "      <td>2.125000</td>\n",
              "      <td>2.406250</td>\n",
              "      <td>1.156250</td>\n",
              "      <td>...</td>\n",
              "      <td>2.062500</td>\n",
              "      <td>2.062500</td>\n",
              "      <td>2.000000</td>\n",
              "      <td>2.000000</td>\n",
              "      <td>2.000000</td>\n",
              "      <td>1.843750</td>\n",
              "      <td>1.843750</td>\n",
              "      <td>1.562500</td>\n",
              "      <td>1.812500</td>\n",
              "      <td>1.718750</td>\n",
              "    </tr>\n",
              "    <tr>\n",
              "      <th>std</th>\n",
              "      <td>0.782237</td>\n",
              "      <td>0.176777</td>\n",
              "      <td>0.553581</td>\n",
              "      <td>1.031265</td>\n",
              "      <td>0.545325</td>\n",
              "      <td>0.456803</td>\n",
              "      <td>0.737804</td>\n",
              "      <td>0.751343</td>\n",
              "      <td>0.756024</td>\n",
              "      <td>0.514899</td>\n",
              "      <td>...</td>\n",
              "      <td>0.245935</td>\n",
              "      <td>0.245935</td>\n",
              "      <td>0.359211</td>\n",
              "      <td>0.359211</td>\n",
              "      <td>0.508001</td>\n",
              "      <td>0.447889</td>\n",
              "      <td>0.447889</td>\n",
              "      <td>0.504016</td>\n",
              "      <td>0.396558</td>\n",
              "      <td>0.456803</td>\n",
              "    </tr>\n",
              "    <tr>\n",
              "      <th>min</th>\n",
              "      <td>1.000000</td>\n",
              "      <td>0.000000</td>\n",
              "      <td>1.000000</td>\n",
              "      <td>0.000000</td>\n",
              "      <td>0.000000</td>\n",
              "      <td>0.000000</td>\n",
              "      <td>1.000000</td>\n",
              "      <td>1.000000</td>\n",
              "      <td>1.000000</td>\n",
              "      <td>1.000000</td>\n",
              "      <td>...</td>\n",
              "      <td>2.000000</td>\n",
              "      <td>2.000000</td>\n",
              "      <td>1.000000</td>\n",
              "      <td>1.000000</td>\n",
              "      <td>1.000000</td>\n",
              "      <td>1.000000</td>\n",
              "      <td>1.000000</td>\n",
              "      <td>1.000000</td>\n",
              "      <td>1.000000</td>\n",
              "      <td>1.000000</td>\n",
              "    </tr>\n",
              "    <tr>\n",
              "      <th>25%</th>\n",
              "      <td>1.000000</td>\n",
              "      <td>0.000000</td>\n",
              "      <td>2.000000</td>\n",
              "      <td>1.750000</td>\n",
              "      <td>1.000000</td>\n",
              "      <td>0.000000</td>\n",
              "      <td>2.000000</td>\n",
              "      <td>2.000000</td>\n",
              "      <td>2.000000</td>\n",
              "      <td>1.000000</td>\n",
              "      <td>...</td>\n",
              "      <td>2.000000</td>\n",
              "      <td>2.000000</td>\n",
              "      <td>2.000000</td>\n",
              "      <td>2.000000</td>\n",
              "      <td>2.000000</td>\n",
              "      <td>2.000000</td>\n",
              "      <td>2.000000</td>\n",
              "      <td>1.000000</td>\n",
              "      <td>2.000000</td>\n",
              "      <td>1.000000</td>\n",
              "    </tr>\n",
              "    <tr>\n",
              "      <th>50%</th>\n",
              "      <td>2.000000</td>\n",
              "      <td>0.000000</td>\n",
              "      <td>2.000000</td>\n",
              "      <td>2.000000</td>\n",
              "      <td>1.000000</td>\n",
              "      <td>0.000000</td>\n",
              "      <td>2.000000</td>\n",
              "      <td>2.000000</td>\n",
              "      <td>3.000000</td>\n",
              "      <td>1.000000</td>\n",
              "      <td>...</td>\n",
              "      <td>2.000000</td>\n",
              "      <td>2.000000</td>\n",
              "      <td>2.000000</td>\n",
              "      <td>2.000000</td>\n",
              "      <td>2.000000</td>\n",
              "      <td>2.000000</td>\n",
              "      <td>2.000000</td>\n",
              "      <td>2.000000</td>\n",
              "      <td>2.000000</td>\n",
              "      <td>2.000000</td>\n",
              "    </tr>\n",
              "    <tr>\n",
              "      <th>75%</th>\n",
              "      <td>3.000000</td>\n",
              "      <td>0.000000</td>\n",
              "      <td>3.000000</td>\n",
              "      <td>3.000000</td>\n",
              "      <td>2.000000</td>\n",
              "      <td>1.000000</td>\n",
              "      <td>3.000000</td>\n",
              "      <td>3.000000</td>\n",
              "      <td>3.000000</td>\n",
              "      <td>1.000000</td>\n",
              "      <td>...</td>\n",
              "      <td>2.000000</td>\n",
              "      <td>2.000000</td>\n",
              "      <td>2.000000</td>\n",
              "      <td>2.000000</td>\n",
              "      <td>2.000000</td>\n",
              "      <td>2.000000</td>\n",
              "      <td>2.000000</td>\n",
              "      <td>2.000000</td>\n",
              "      <td>2.000000</td>\n",
              "      <td>2.000000</td>\n",
              "    </tr>\n",
              "    <tr>\n",
              "      <th>max</th>\n",
              "      <td>3.000000</td>\n",
              "      <td>1.000000</td>\n",
              "      <td>3.000000</td>\n",
              "      <td>3.000000</td>\n",
              "      <td>2.000000</td>\n",
              "      <td>1.000000</td>\n",
              "      <td>3.000000</td>\n",
              "      <td>3.000000</td>\n",
              "      <td>3.000000</td>\n",
              "      <td>3.000000</td>\n",
              "      <td>...</td>\n",
              "      <td>3.000000</td>\n",
              "      <td>3.000000</td>\n",
              "      <td>3.000000</td>\n",
              "      <td>3.000000</td>\n",
              "      <td>3.000000</td>\n",
              "      <td>3.000000</td>\n",
              "      <td>3.000000</td>\n",
              "      <td>2.000000</td>\n",
              "      <td>2.000000</td>\n",
              "      <td>2.000000</td>\n",
              "    </tr>\n",
              "  </tbody>\n",
              "</table>\n",
              "<p>8 rows × 57 columns</p>\n",
              "</div>\n",
              "      <button class=\"colab-df-convert\" onclick=\"convertToInteractive('df-03f1b6e8-520b-4fb6-9f6c-373bf8a96741')\"\n",
              "              title=\"Convert this dataframe to an interactive table.\"\n",
              "              style=\"display:none;\">\n",
              "        \n",
              "  <svg xmlns=\"http://www.w3.org/2000/svg\" height=\"24px\"viewBox=\"0 0 24 24\"\n",
              "       width=\"24px\">\n",
              "    <path d=\"M0 0h24v24H0V0z\" fill=\"none\"/>\n",
              "    <path d=\"M18.56 5.44l.94 2.06.94-2.06 2.06-.94-2.06-.94-.94-2.06-.94 2.06-2.06.94zm-11 1L8.5 8.5l.94-2.06 2.06-.94-2.06-.94L8.5 2.5l-.94 2.06-2.06.94zm10 10l.94 2.06.94-2.06 2.06-.94-2.06-.94-.94-2.06-.94 2.06-2.06.94z\"/><path d=\"M17.41 7.96l-1.37-1.37c-.4-.4-.92-.59-1.43-.59-.52 0-1.04.2-1.43.59L10.3 9.45l-7.72 7.72c-.78.78-.78 2.05 0 2.83L4 21.41c.39.39.9.59 1.41.59.51 0 1.02-.2 1.41-.59l7.78-7.78 2.81-2.81c.8-.78.8-2.07 0-2.86zM5.41 20L4 18.59l7.72-7.72 1.47 1.35L5.41 20z\"/>\n",
              "  </svg>\n",
              "      </button>\n",
              "      \n",
              "  <style>\n",
              "    .colab-df-container {\n",
              "      display:flex;\n",
              "      flex-wrap:wrap;\n",
              "      gap: 12px;\n",
              "    }\n",
              "\n",
              "    .colab-df-convert {\n",
              "      background-color: #E8F0FE;\n",
              "      border: none;\n",
              "      border-radius: 50%;\n",
              "      cursor: pointer;\n",
              "      display: none;\n",
              "      fill: #1967D2;\n",
              "      height: 32px;\n",
              "      padding: 0 0 0 0;\n",
              "      width: 32px;\n",
              "    }\n",
              "\n",
              "    .colab-df-convert:hover {\n",
              "      background-color: #E2EBFA;\n",
              "      box-shadow: 0px 1px 2px rgba(60, 64, 67, 0.3), 0px 1px 3px 1px rgba(60, 64, 67, 0.15);\n",
              "      fill: #174EA6;\n",
              "    }\n",
              "\n",
              "    [theme=dark] .colab-df-convert {\n",
              "      background-color: #3B4455;\n",
              "      fill: #D2E3FC;\n",
              "    }\n",
              "\n",
              "    [theme=dark] .colab-df-convert:hover {\n",
              "      background-color: #434B5C;\n",
              "      box-shadow: 0px 1px 3px 1px rgba(0, 0, 0, 0.15);\n",
              "      filter: drop-shadow(0px 1px 2px rgba(0, 0, 0, 0.3));\n",
              "      fill: #FFFFFF;\n",
              "    }\n",
              "  </style>\n",
              "\n",
              "      <script>\n",
              "        const buttonEl =\n",
              "          document.querySelector('#df-03f1b6e8-520b-4fb6-9f6c-373bf8a96741 button.colab-df-convert');\n",
              "        buttonEl.style.display =\n",
              "          google.colab.kernel.accessAllowed ? 'block' : 'none';\n",
              "\n",
              "        async function convertToInteractive(key) {\n",
              "          const element = document.querySelector('#df-03f1b6e8-520b-4fb6-9f6c-373bf8a96741');\n",
              "          const dataTable =\n",
              "            await google.colab.kernel.invokeFunction('convertToInteractive',\n",
              "                                                     [key], {});\n",
              "          if (!dataTable) return;\n",
              "\n",
              "          const docLinkHtml = 'Like what you see? Visit the ' +\n",
              "            '<a target=\"_blank\" href=https://colab.research.google.com/notebooks/data_table.ipynb>data table notebook</a>'\n",
              "            + ' to learn more about interactive tables.';\n",
              "          element.innerHTML = '';\n",
              "          dataTable['output_type'] = 'display_data';\n",
              "          await google.colab.output.renderOutput(dataTable, element);\n",
              "          const docLink = document.createElement('div');\n",
              "          docLink.innerHTML = docLinkHtml;\n",
              "          element.appendChild(docLink);\n",
              "        }\n",
              "      </script>\n",
              "    </div>\n",
              "  </div>\n",
              "  "
            ]
          },
          "metadata": {},
          "execution_count": 11
        }
      ]
    },
    {
      "cell_type": "code",
      "source": [
        "print(\"Missing values:\")\n",
        "print(df.isnull().sum())"
      ],
      "metadata": {
        "colab": {
          "base_uri": "https://localhost:8080/"
        },
        "id": "eZWgq7gyZGNc",
        "outputId": "2274c75f-09ce-4dc7-d007-1b081676806f"
      },
      "execution_count": null,
      "outputs": [
        {
          "output_type": "stream",
          "name": "stdout",
          "text": [
            "Missing values:\n",
            "ClassLabel     0\n",
            "Attribute1     0\n",
            "Attribute2     0\n",
            "Attribute3     0\n",
            "Attribute4     0\n",
            "Attribute5     0\n",
            "Attribute6     0\n",
            "Attribute7     0\n",
            "Attribute8     0\n",
            "Attribute9     0\n",
            "Attribute10    0\n",
            "Attribute11    0\n",
            "Attribute12    0\n",
            "Attribute13    0\n",
            "Attribute14    0\n",
            "Attribute15    0\n",
            "Attribute16    0\n",
            "Attribute17    0\n",
            "Attribute18    0\n",
            "Attribute19    0\n",
            "Attribute20    0\n",
            "Attribute21    0\n",
            "Attribute22    0\n",
            "Attribute23    0\n",
            "Attribute24    0\n",
            "Attribute25    0\n",
            "Attribute26    0\n",
            "Attribute27    0\n",
            "Attribute28    0\n",
            "Attribute29    0\n",
            "Attribute30    0\n",
            "Attribute31    0\n",
            "Attribute32    0\n",
            "Attribute33    0\n",
            "Attribute34    0\n",
            "Attribute35    0\n",
            "Attribute36    0\n",
            "Attribute37    0\n",
            "Attribute38    0\n",
            "Attribute39    0\n",
            "Attribute40    0\n",
            "Attribute41    0\n",
            "Attribute42    0\n",
            "Attribute43    0\n",
            "Attribute44    0\n",
            "Attribute45    0\n",
            "Attribute46    0\n",
            "Attribute47    0\n",
            "Attribute48    0\n",
            "Attribute49    0\n",
            "Attribute50    0\n",
            "Attribute51    0\n",
            "Attribute52    0\n",
            "Attribute53    0\n",
            "Attribute54    0\n",
            "Attribute55    0\n",
            "Attribute56    0\n",
            "dtype: int64\n"
          ]
        }
      ]
    },
    {
      "cell_type": "code",
      "source": [
        "df[\"Attribute4\"] = df[\"Attribute4\"].astype(int)\n",
        "df[\"Attribute38\"] = df[\"Attribute38\"].astype(int)"
      ],
      "metadata": {
        "id": "T7-G_hX22JVH"
      },
      "execution_count": null,
      "outputs": []
    },
    {
      "cell_type": "code",
      "source": [
        "# Convert attribute 4 to numeric data type\n",
        "df['Attribute4'] = pd.to_numeric(df['Attribute4'], errors='coerce')\n",
        "\n",
        "# Check the data types of the columns\n",
        "print(df.dtypes)\n",
        "\n",
        "# Use describe() to get descriptive statistics including attribute 4\n",
        "print(df.describe())"
      ],
      "metadata": {
        "colab": {
          "base_uri": "https://localhost:8080/"
        },
        "id": "DNjBkDuRZKkd",
        "outputId": "2d5ffca5-cea9-4c9e-ef8f-5197ff69bae3"
      },
      "execution_count": null,
      "outputs": [
        {
          "output_type": "stream",
          "name": "stdout",
          "text": [
            "ClassLabel     int64\n",
            "Attribute1     int64\n",
            "Attribute2     int64\n",
            "Attribute3     int64\n",
            "Attribute4     int64\n",
            "Attribute5     int64\n",
            "Attribute6     int64\n",
            "Attribute7     int64\n",
            "Attribute8     int64\n",
            "Attribute9     int64\n",
            "Attribute10    int64\n",
            "Attribute11    int64\n",
            "Attribute12    int64\n",
            "Attribute13    int64\n",
            "Attribute14    int64\n",
            "Attribute15    int64\n",
            "Attribute16    int64\n",
            "Attribute17    int64\n",
            "Attribute18    int64\n",
            "Attribute19    int64\n",
            "Attribute20    int64\n",
            "Attribute21    int64\n",
            "Attribute22    int64\n",
            "Attribute23    int64\n",
            "Attribute24    int64\n",
            "Attribute25    int64\n",
            "Attribute26    int64\n",
            "Attribute27    int64\n",
            "Attribute28    int64\n",
            "Attribute29    int64\n",
            "Attribute30    int64\n",
            "Attribute31    int64\n",
            "Attribute32    int64\n",
            "Attribute33    int64\n",
            "Attribute34    int64\n",
            "Attribute35    int64\n",
            "Attribute36    int64\n",
            "Attribute37    int64\n",
            "Attribute38    int64\n",
            "Attribute39    int64\n",
            "Attribute40    int64\n",
            "Attribute41    int64\n",
            "Attribute42    int64\n",
            "Attribute43    int64\n",
            "Attribute44    int64\n",
            "Attribute45    int64\n",
            "Attribute46    int64\n",
            "Attribute47    int64\n",
            "Attribute48    int64\n",
            "Attribute49    int64\n",
            "Attribute50    int64\n",
            "Attribute51    int64\n",
            "Attribute52    int64\n",
            "Attribute53    int64\n",
            "Attribute54    int64\n",
            "Attribute55    int64\n",
            "Attribute56    int64\n",
            "dtype: object\n",
            "       ClassLabel  Attribute1  Attribute2  Attribute3  Attribute4  Attribute5  \\\n",
            "count   32.000000   32.000000   32.000000   32.000000   32.000000   32.000000   \n",
            "mean     2.031250    0.031250    2.375000    2.031250    1.343750    0.281250   \n",
            "std      0.782237    0.176777    0.553581    1.031265    0.545325    0.456803   \n",
            "min      1.000000    0.000000    1.000000    0.000000    0.000000    0.000000   \n",
            "25%      1.000000    0.000000    2.000000    1.750000    1.000000    0.000000   \n",
            "50%      2.000000    0.000000    2.000000    2.000000    1.000000    0.000000   \n",
            "75%      3.000000    0.000000    3.000000    3.000000    2.000000    1.000000   \n",
            "max      3.000000    1.000000    3.000000    3.000000    2.000000    1.000000   \n",
            "\n",
            "       Attribute6  Attribute7  Attribute8  Attribute9  ...  Attribute47  \\\n",
            "count   32.000000   32.000000   32.000000   32.000000  ...    32.000000   \n",
            "mean     2.187500    2.125000    2.406250    1.156250  ...     2.062500   \n",
            "std      0.737804    0.751343    0.756024    0.514899  ...     0.245935   \n",
            "min      1.000000    1.000000    1.000000    1.000000  ...     2.000000   \n",
            "25%      2.000000    2.000000    2.000000    1.000000  ...     2.000000   \n",
            "50%      2.000000    2.000000    3.000000    1.000000  ...     2.000000   \n",
            "75%      3.000000    3.000000    3.000000    1.000000  ...     2.000000   \n",
            "max      3.000000    3.000000    3.000000    3.000000  ...     3.000000   \n",
            "\n",
            "       Attribute48  Attribute49  Attribute50  Attribute51  Attribute52  \\\n",
            "count    32.000000    32.000000    32.000000    32.000000    32.000000   \n",
            "mean      2.062500     2.000000     2.000000     2.000000     1.843750   \n",
            "std       0.245935     0.359211     0.359211     0.508001     0.447889   \n",
            "min       2.000000     1.000000     1.000000     1.000000     1.000000   \n",
            "25%       2.000000     2.000000     2.000000     2.000000     2.000000   \n",
            "50%       2.000000     2.000000     2.000000     2.000000     2.000000   \n",
            "75%       2.000000     2.000000     2.000000     2.000000     2.000000   \n",
            "max       3.000000     3.000000     3.000000     3.000000     3.000000   \n",
            "\n",
            "       Attribute53  Attribute54  Attribute55  Attribute56  \n",
            "count    32.000000    32.000000    32.000000    32.000000  \n",
            "mean      1.843750     1.562500     1.812500     1.718750  \n",
            "std       0.447889     0.504016     0.396558     0.456803  \n",
            "min       1.000000     1.000000     1.000000     1.000000  \n",
            "25%       2.000000     1.000000     2.000000     1.000000  \n",
            "50%       2.000000     2.000000     2.000000     2.000000  \n",
            "75%       2.000000     2.000000     2.000000     2.000000  \n",
            "max       3.000000     2.000000     2.000000     2.000000  \n",
            "\n",
            "[8 rows x 57 columns]\n"
          ]
        }
      ]
    },
    {
      "cell_type": "markdown",
      "source": [
        "##DATA CLEANNING IS OVER"
      ],
      "metadata": {
        "id": "VborUMJc2vC_"
      }
    },
    {
      "cell_type": "markdown",
      "source": [
        "............................"
      ],
      "metadata": {
        "id": "CzJBGPlw2yS_"
      }
    },
    {
      "cell_type": "markdown",
      "source": [
        "##Step 2: Feature Selection & Feature Elimination"
      ],
      "metadata": {
        "id": "C-m7A2yA2zt9"
      }
    },
    {
      "cell_type": "code",
      "source": [
        "from sklearn.decomposition import PCA\n",
        "from sklearn.model_selection import train_test_split"
      ],
      "metadata": {
        "id": "ZZ-H8vI9anhv"
      },
      "execution_count": null,
      "outputs": []
    },
    {
      "cell_type": "code",
      "source": [
        "# Separate the feature matrix (X) and the target variable (y)\n",
        "X = df.drop(\"ClassLabel\", axis=1)\n",
        "y = df[\"ClassLabel\"]\n",
        "\n",
        "# Split the dataset into training and testing sets\n",
        "X_train, X_test, y_train, y_test = train_test_split(X, y, test_size=0.20, random_state=52)"
      ],
      "metadata": {
        "id": "R1611De3a28R"
      },
      "execution_count": null,
      "outputs": []
    },
    {
      "cell_type": "code",
      "source": [
        "# Apply PCA for dimensionality reduction\n",
        "pca = PCA(n_components=19)  \n",
        "X_train_pca = pca.fit_transform(X_train)\n",
        "X_test_pca = pca.transform(X_test)"
      ],
      "metadata": {
        "id": "T4LJvTzccr3z"
      },
      "execution_count": null,
      "outputs": []
    },
    {
      "cell_type": "code",
      "source": [],
      "metadata": {
        "id": "ukD49leDp8a1"
      },
      "execution_count": null,
      "outputs": []
    },
    {
      "cell_type": "markdown",
      "source": [
        "##KNN"
      ],
      "metadata": {
        "id": "M7CQtwXmc2_A"
      }
    },
    {
      "cell_type": "code",
      "source": [
        "from sklearn.neighbors import KNeighborsClassifier\n",
        "from sklearn.metrics import accuracy_score, classification_report,mean_absolute_error, mean_squared_error, r2_score,f1_score,precision_score,recall_score,precision_recall_fscore_support\n",
        "from sklearn.preprocessing import StandardScaler\n",
        "\n",
        "# Create a KNN classifier\n",
        "knn = KNeighborsClassifier()\n",
        "\n",
        "# Train the model\n",
        "knn.fit(X_train_pca, y_train)\n",
        "\n",
        "# Make predictions on the testing set\n",
        "y_pred_KNN = knn.predict(X_test_pca)\n",
        "\n",
        "# Evaluate the model's performance\n",
        "accuracy_KNN = accuracy_score(y_test, y_pred_KNN)\n",
        "print(\"Accuracy:\", accuracy_KNN)\n",
        "\n",
        "f1_score_KNN=f1_score(y_test,y_pred_KNN,average='macro')\n",
        "print(\"F1_score : \",f1_score_KNN)\n",
        "\n",
        "precision_KNN=precision_score(y_test,y_pred_KNN,average='macro')\n",
        "print(\"Precision : \",precision_KNN)\n",
        "\n",
        "mse_KNN=mean_squared_error(y_test,y_pred_KNN)\n",
        "print(\"MSE : \",mse_KNN)\n",
        "\n",
        "rmse_KNN=np.sqrt(mse_KNN)\n",
        "print(\"RMSE : \",rmse_KNN)\n",
        "\n",
        "mae_KNN=mean_absolute_error(y_test,y_pred_KNN)\n",
        "print(\"MAE : \",mae_KNN)\n"
      ],
      "metadata": {
        "colab": {
          "base_uri": "https://localhost:8080/"
        },
        "id": "CCKelzU5c0QP",
        "outputId": "03e09afc-659b-4f7c-99f0-732db4795d1d"
      },
      "execution_count": null,
      "outputs": [
        {
          "output_type": "stream",
          "name": "stdout",
          "text": [
            "Accuracy: 0.8571428571428571\n",
            "F1_score :  0.6190476190476191\n",
            "Precision :  0.6666666666666666\n",
            "MSE :  0.14285714285714285\n",
            "RMSE :  0.3779644730092272\n",
            "MAE :  0.14285714285714285\n"
          ]
        }
      ]
    },
    {
      "cell_type": "code",
      "source": [
        "print(y_test.values)\n",
        "print(y_pred_KNN)"
      ],
      "metadata": {
        "colab": {
          "base_uri": "https://localhost:8080/"
        },
        "id": "EZllg4iOpu7J",
        "outputId": "34042179-9b4c-40fe-9d5d-a1d0717f90f7"
      },
      "execution_count": null,
      "outputs": [
        {
          "output_type": "stream",
          "name": "stdout",
          "text": [
            "[2 2 2 1 1 2 1]\n",
            "[2 2 2 1 1 3 1]\n"
          ]
        }
      ]
    },
    {
      "cell_type": "code",
      "source": [
        "report = classification_report(y_test, y_pred_KNN)\n",
        "print(report)"
      ],
      "metadata": {
        "colab": {
          "base_uri": "https://localhost:8080/"
        },
        "id": "uJEQhvOTvll8",
        "outputId": "db12c55d-81b4-4940-be3a-0ec5d3eb22c6"
      },
      "execution_count": null,
      "outputs": [
        {
          "output_type": "stream",
          "name": "stdout",
          "text": [
            "              precision    recall  f1-score   support\n",
            "\n",
            "           1       1.00      1.00      1.00         3\n",
            "           2       1.00      0.75      0.86         4\n",
            "           3       0.00      0.00      0.00         0\n",
            "\n",
            "    accuracy                           0.86         7\n",
            "   macro avg       0.67      0.58      0.62         7\n",
            "weighted avg       1.00      0.86      0.92         7\n",
            "\n"
          ]
        },
        {
          "output_type": "stream",
          "name": "stderr",
          "text": [
            "/usr/local/lib/python3.10/dist-packages/sklearn/metrics/_classification.py:1344: UndefinedMetricWarning: Recall and F-score are ill-defined and being set to 0.0 in labels with no true samples. Use `zero_division` parameter to control this behavior.\n",
            "  _warn_prf(average, modifier, msg_start, len(result))\n",
            "/usr/local/lib/python3.10/dist-packages/sklearn/metrics/_classification.py:1344: UndefinedMetricWarning: Recall and F-score are ill-defined and being set to 0.0 in labels with no true samples. Use `zero_division` parameter to control this behavior.\n",
            "  _warn_prf(average, modifier, msg_start, len(result))\n",
            "/usr/local/lib/python3.10/dist-packages/sklearn/metrics/_classification.py:1344: UndefinedMetricWarning: Recall and F-score are ill-defined and being set to 0.0 in labels with no true samples. Use `zero_division` parameter to control this behavior.\n",
            "  _warn_prf(average, modifier, msg_start, len(result))\n"
          ]
        }
      ]
    },
    {
      "cell_type": "code",
      "source": [],
      "metadata": {
        "id": "uh1OpYj77fDQ"
      },
      "execution_count": null,
      "outputs": []
    },
    {
      "cell_type": "code",
      "source": [
        "from sklearn import metrics"
      ],
      "metadata": {
        "id": "7Xmyx3Ue1-2R"
      },
      "execution_count": null,
      "outputs": []
    },
    {
      "cell_type": "code",
      "source": [
        "# Binarize the true labels\n",
        "y_test_bin = np.where(y_test == 2, 1, 0)\n",
        "\n",
        "# Compute the probabilities for positive class\n",
        "y_scores = np.where(y_pred_KNN == 2, 1, 0)\n",
        "\n",
        "# Calculate the False Positive Rate (FPR) and True Positive Rate (TPR)\n",
        "fpr, tpr, _ = metrics.roc_curve(y_test_bin, y_scores)\n",
        "\n",
        "# Calculate the Area Under the ROC Curve (AUC)\n",
        "roc_auc = metrics.auc(fpr, tpr)\n",
        "\n",
        "# Plot the ROC curve\n",
        "plt.plot(fpr, tpr, label='ROC curve')\n",
        "plt.plot([0, 1], [0, 1], 'k--')  # Diagonal line for random classifier\n",
        "plt.xlabel('False Positive Rate (FPR)')\n",
        "plt.ylabel('True Positive Rate (TPR)')\n",
        "plt.title('Receiver Operating Characteristic (ROC) Curve')\n",
        "plt.legend(loc='lower right')\n",
        "plt.show()\n"
      ],
      "metadata": {
        "colab": {
          "base_uri": "https://localhost:8080/",
          "height": 472
        },
        "id": "suG6-49OrZvd",
        "outputId": "212fc6c6-aece-40a2-88b5-c6467cf528a3"
      },
      "execution_count": null,
      "outputs": [
        {
          "output_type": "display_data",
          "data": {
            "text/plain": [
              "<Figure size 640x480 with 1 Axes>"
            ],
            "image/png": "[encoded data removed]"
          },
          "metadata": {}
        }
      ]
    },
    {
      "cell_type": "markdown",
      "source": [
        "##Naive Bayes"
      ],
      "metadata": {
        "id": "RdB0gssEdtwK"
      }
    },
    {
      "cell_type": "code",
      "source": [
        "from sklearn.naive_bayes import GaussianNB\n",
        "from sklearn.metrics import accuracy_score, classification_report,mean_absolute_error, mean_squared_error, r2_score,f1_score,precision_score,recall_score,precision_recall_fscore_support\n",
        "\n",
        "\n",
        "# Create a Naive Bayes classifier\n",
        "nb = GaussianNB()\n",
        "\n",
        "# Train the model\n",
        "nb.fit(X_train_pca, y_train)\n",
        "\n",
        "# Make predictions on the testing set\n",
        "y_pred_NaiveBayes = nb.predict(X_test_pca)\n",
        "\n",
        "# Evaluate the model's performance\n",
        "accuracy_NaiveBayes = accuracy_score(y_test, y_pred_NaiveBayes)\n",
        "print(\"Accuracy:\", accuracy_NaiveBayes)\n",
        "\n",
        "f1_score_NaiveBayes=f1_score(y_test,y_pred_NaiveBayes,average='macro')\n",
        "print(\"F1_score : \",f1_score_KNN)\n",
        "\n",
        "precision_NaiveBayes=precision_score(y_test,y_pred_NaiveBayes,average='macro')\n",
        "print(\"Precision : \",precision_KNN)\n",
        "\n",
        "mse_NaiveBayes=mean_squared_error(y_test,y_pred_NaiveBayes)\n",
        "print(\"MSE : \",mse_NaiveBayes)\n",
        "\n",
        "rmse_NaiveBayes=np.sqrt(mse_NaiveBayes)\n",
        "print(\"RMSE : \",rmse_NaiveBayes)\n",
        "\n",
        "mae_NaiveBayes=mean_absolute_error(y_test,y_pred_NaiveBayes)\n",
        "print(\"MAE : \",mae_NaiveBayes)"
      ],
      "metadata": {
        "colab": {
          "base_uri": "https://localhost:8080/"
        },
        "id": "jlUSX9a40ZtN",
        "outputId": "bb8bceae-039d-4082-97eb-956cf5a879d7"
      },
      "execution_count": null,
      "outputs": [
        {
          "output_type": "stream",
          "name": "stdout",
          "text": [
            "Accuracy: 0.2857142857142857\n",
            "F1_score :  0.6190476190476191\n",
            "Precision :  0.6666666666666666\n",
            "MSE :  0.7142857142857143\n",
            "RMSE :  0.8451542547285166\n",
            "MAE :  0.7142857142857143\n"
          ]
        }
      ]
    },
    {
      "cell_type": "code",
      "source": [
        "print(y_test.values)\n",
        "print(y_pred_NaiveBayes)"
      ],
      "metadata": {
        "colab": {
          "base_uri": "https://localhost:8080/"
        },
        "id": "0ziSJ-dd0LGv",
        "outputId": "571315a5-e732-4a8c-df0a-926e9166d9a3"
      },
      "execution_count": null,
      "outputs": [
        {
          "output_type": "stream",
          "name": "stdout",
          "text": [
            "[2 2 2 1 1 2 1]\n",
            "[1 3 2 2 2 3 1]\n"
          ]
        }
      ]
    },
    {
      "cell_type": "code",
      "source": [
        "report = classification_report(y_test, y_pred_NaiveBayes)\n",
        "print(report)"
      ],
      "metadata": {
        "colab": {
          "base_uri": "https://localhost:8080/"
        },
        "id": "qKEmCfgP03O2",
        "outputId": "d3ebfa13-e70c-45a6-f7ac-fd67b970d37c"
      },
      "execution_count": null,
      "outputs": [
        {
          "output_type": "stream",
          "name": "stdout",
          "text": [
            "              precision    recall  f1-score   support\n",
            "\n",
            "           1       0.50      0.33      0.40         3\n",
            "           2       0.33      0.25      0.29         4\n",
            "           3       0.00      0.00      0.00         0\n",
            "\n",
            "    accuracy                           0.29         7\n",
            "   macro avg       0.28      0.19      0.23         7\n",
            "weighted avg       0.40      0.29      0.33         7\n",
            "\n"
          ]
        },
        {
          "output_type": "stream",
          "name": "stderr",
          "text": [
            "/usr/local/lib/python3.10/dist-packages/sklearn/metrics/_classification.py:1344: UndefinedMetricWarning: Recall and F-score are ill-defined and being set to 0.0 in labels with no true samples. Use `zero_division` parameter to control this behavior.\n",
            "  _warn_prf(average, modifier, msg_start, len(result))\n",
            "/usr/local/lib/python3.10/dist-packages/sklearn/metrics/_classification.py:1344: UndefinedMetricWarning: Recall and F-score are ill-defined and being set to 0.0 in labels with no true samples. Use `zero_division` parameter to control this behavior.\n",
            "  _warn_prf(average, modifier, msg_start, len(result))\n",
            "/usr/local/lib/python3.10/dist-packages/sklearn/metrics/_classification.py:1344: UndefinedMetricWarning: Recall and F-score are ill-defined and being set to 0.0 in labels with no true samples. Use `zero_division` parameter to control this behavior.\n",
            "  _warn_prf(average, modifier, msg_start, len(result))\n"
          ]
        }
      ]
    },
    {
      "cell_type": "code",
      "source": [
        "# Binarize the true labels\n",
        "y_test_bin = np.where(y_test == 2, 1, 0)\n",
        "\n",
        "# Compute the probabilities for positive class\n",
        "y_scores = np.where(y_pred_NaiveBayes == 2, 1, 0)\n",
        "\n",
        "# Calculate the False Positive Rate (FPR) and True Positive Rate (TPR)\n",
        "fpr, tpr, _ = metrics.roc_curve(y_test_bin, y_scores)\n",
        "\n",
        "# Calculate the Area Under the ROC Curve (AUC)\n",
        "roc_auc = metrics.auc(fpr, tpr)\n",
        "\n",
        "# Plot the ROC curve\n",
        "plt.plot(fpr, tpr, label='ROC curve')\n",
        "plt.plot([0, 1], [0, 1], 'k--')  # Diagonal line for random classifier\n",
        "plt.xlabel('False Positive Rate (FPR)')\n",
        "plt.ylabel('True Positive Rate (TPR)')\n",
        "plt.title('Receiver Operating Characteristic (ROC) Curve')\n",
        "plt.legend(loc='lower right')\n",
        "plt.show()"
      ],
      "metadata": {
        "colab": {
          "base_uri": "https://localhost:8080/",
          "height": 472
        },
        "id": "QNwwVCO72B8h",
        "outputId": "d2456c9d-56f3-420f-bd5b-d40d8097e77f"
      },
      "execution_count": null,
      "outputs": [
        {
          "output_type": "display_data",
          "data": {
            "text/plain": [
              "<Figure size 640x480 with 1 Axes>"
            ],
            "image/png": "[encoded data removed]"
          },
          "metadata": {}
        }
      ]
    },
    {
      "cell_type": "markdown",
      "source": [
        "##RandomForest"
      ],
      "metadata": {
        "id": "jqeXdRlph9zY"
      }
    },
    {
      "cell_type": "code",
      "source": [
        "from sklearn.ensemble import RandomForestClassifier\n",
        "from sklearn.metrics import accuracy_score, classification_report,mean_absolute_error, mean_squared_error, r2_score,f1_score,precision_score,recall_score,precision_recall_fscore_support\n",
        "\n",
        "\n",
        "# Create a Random Forest classifier\n",
        "rf = RandomForestClassifier(n_estimators=100, random_state=52)\n",
        "\n",
        "# Train the model\n",
        "rf.fit(X_train_pca, y_train)\n",
        "\n",
        "# Make predictions on the testing set\n",
        "y_pred_RF = rf.predict(X_test_pca)\n",
        "\n",
        "\n",
        "# Evaluate the model's performance\n",
        "accuracy_RF = accuracy_score(y_test, y_pred_RF)\n",
        "print(\"Accuracy:\", accuracy_RF)\n",
        "\n",
        "f1_score_RF=f1_score(y_test,y_pred_RF,average='macro')\n",
        "print(\"F1_score : \",f1_score_RF)\n",
        "\n",
        "precision_RF=precision_score(y_test,y_pred_RF,average='macro')\n",
        "print(\"Precision : \",precision_RF)\n",
        "\n",
        "mse_RF=mean_squared_error(y_test,y_pred_RF)\n",
        "print(\"MSE : \",mse_RF)\n",
        "\n",
        "rmse_RF=np.sqrt(mse_RF)\n",
        "print(\"RMSE : \",rmse_RF)\n",
        "\n",
        "mae_RF=mean_absolute_error(y_test,y_pred_RF)\n",
        "print(\"MAE : \",mae_RF)\n"
      ],
      "metadata": {
        "colab": {
          "base_uri": "https://localhost:8080/"
        },
        "id": "Gkj-t2Mi2DcE",
        "outputId": "b04f469d-9256-4f6d-d6f3-322337f19ba6"
      },
      "execution_count": null,
      "outputs": [
        {
          "output_type": "stream",
          "name": "stdout",
          "text": [
            "Accuracy: 0.5714285714285714\n",
            "F1_score :  0.38888888888888884\n",
            "Precision :  0.5333333333333333\n",
            "MSE :  0.42857142857142855\n",
            "RMSE :  0.6546536707079771\n",
            "MAE :  0.42857142857142855\n"
          ]
        }
      ]
    },
    {
      "cell_type": "code",
      "source": [
        "print(y_test.values)\n",
        "print(y_pred_RF)"
      ],
      "metadata": {
        "colab": {
          "base_uri": "https://localhost:8080/"
        },
        "id": "zsgseA-u0m6m",
        "outputId": "29fb7882-078b-4ad4-8c8d-53ebfffb0d01"
      },
      "execution_count": null,
      "outputs": [
        {
          "output_type": "stream",
          "name": "stdout",
          "text": [
            "[2 2 2 1 1 2 1]\n",
            "[2 3 2 2 1 2 2]\n"
          ]
        }
      ]
    },
    {
      "cell_type": "code",
      "source": [
        "report = classification_report(y_test, y_pred_RF)\n",
        "print(report)"
      ],
      "metadata": {
        "colab": {
          "base_uri": "https://localhost:8080/"
        },
        "id": "AxjLBqJ809_F",
        "outputId": "58c9227f-847e-47b9-88d0-5cc3c8b0e236"
      },
      "execution_count": null,
      "outputs": [
        {
          "output_type": "stream",
          "name": "stdout",
          "text": [
            "              precision    recall  f1-score   support\n",
            "\n",
            "           1       1.00      0.33      0.50         3\n",
            "           2       0.60      0.75      0.67         4\n",
            "           3       0.00      0.00      0.00         0\n",
            "\n",
            "    accuracy                           0.57         7\n",
            "   macro avg       0.53      0.36      0.39         7\n",
            "weighted avg       0.77      0.57      0.60         7\n",
            "\n"
          ]
        },
        {
          "output_type": "stream",
          "name": "stderr",
          "text": [
            "/usr/local/lib/python3.10/dist-packages/sklearn/metrics/_classification.py:1344: UndefinedMetricWarning: Recall and F-score are ill-defined and being set to 0.0 in labels with no true samples. Use `zero_division` parameter to control this behavior.\n",
            "  _warn_prf(average, modifier, msg_start, len(result))\n",
            "/usr/local/lib/python3.10/dist-packages/sklearn/metrics/_classification.py:1344: UndefinedMetricWarning: Recall and F-score are ill-defined and being set to 0.0 in labels with no true samples. Use `zero_division` parameter to control this behavior.\n",
            "  _warn_prf(average, modifier, msg_start, len(result))\n",
            "/usr/local/lib/python3.10/dist-packages/sklearn/metrics/_classification.py:1344: UndefinedMetricWarning: Recall and F-score are ill-defined and being set to 0.0 in labels with no true samples. Use `zero_division` parameter to control this behavior.\n",
            "  _warn_prf(average, modifier, msg_start, len(result))\n"
          ]
        }
      ]
    },
    {
      "cell_type": "code",
      "source": [
        "# Binarize the true labels\n",
        "y_test_bin = np.where(y_test == 2, 1, 0)\n",
        "\n",
        "# Compute the probabilities for positive class\n",
        "y_scores = np.where(y_pred_RF == 2, 1, 0)\n",
        "\n",
        "# Calculate the False Positive Rate (FPR) and True Positive Rate (TPR)\n",
        "fpr, tpr, _ = metrics.roc_curve(y_test_bin, y_scores)\n",
        "\n",
        "# Calculate the Area Under the ROC Curve (AUC)\n",
        "roc_auc = metrics.auc(fpr, tpr)\n",
        "\n",
        "# Plot the ROC curve\n",
        "plt.plot(fpr, tpr, label='ROC curve')\n",
        "plt.plot([0, 1], [0, 1], 'k--')  # Diagonal line for random classifier\n",
        "plt.xlabel('False Positive Rate (FPR)')\n",
        "plt.ylabel('True Positive Rate (TPR)')\n",
        "plt.title('Receiver Operating Characteristic (ROC) Curve')\n",
        "plt.legend(loc='lower right')\n",
        "plt.show()"
      ],
      "metadata": {
        "colab": {
          "base_uri": "https://localhost:8080/",
          "height": 472
        },
        "id": "BlqZOPJn2H6P",
        "outputId": "a7ea58f4-2de4-475d-ebe9-4779e15a8c46"
      },
      "execution_count": null,
      "outputs": [
        {
          "output_type": "display_data",
          "data": {
            "text/plain": [
              "<Figure size 640x480 with 1 Axes>"
            ],
            "image/png": "[encoded data removed]"
          },
          "metadata": {}
        }
      ]
    },
    {
      "cell_type": "markdown",
      "source": [
        "##DecisionTree"
      ],
      "metadata": {
        "id": "clMgTFSGiDOl"
      }
    },
    {
      "cell_type": "code",
      "source": [
        "from sklearn.tree import DecisionTreeClassifier\n",
        "from sklearn.metrics import accuracy_score, classification_report,mean_absolute_error, mean_squared_error, r2_score,f1_score,precision_score,recall_score,precision_recall_fscore_support\n",
        "\n",
        "\n",
        "# Create a Decision Tree classifier\n",
        "dt = DecisionTreeClassifier(random_state=52)\n",
        "\n",
        "# Train the model\n",
        "dt.fit(X_train_pca, y_train)\n",
        "\n",
        "# Make predictions on the testing set\n",
        "y_pred_DT = dt.predict(X_test_pca)\n",
        "\n",
        "\n",
        "# Evaluate the model's performance\n",
        "accuracy_DT = accuracy_score(y_test, y_pred_DT)\n",
        "print(\"Accuracy:\", accuracy_DT)\n",
        "\n",
        "f1_score_DT=f1_score(y_test,y_pred_DT,average='macro')\n",
        "print(\"F1_score : \",f1_score_DT)\n",
        "\n",
        "precision_DT=precision_score(y_test,y_pred_DT,average='macro')\n",
        "print(\"Precision : \",precision_DT)\n",
        "\n",
        "mse_DT=mean_squared_error(y_test,y_pred_DT)\n",
        "print(\"MSE : \",mse_DT)\n",
        "\n",
        "rmse_DT=np.sqrt(mse_DT)\n",
        "print(\"RMSE : \",rmse_DT)\n",
        "\n",
        "mae_DT=mean_absolute_error(y_test,y_pred_DT)\n",
        "print(\"MAE : \",mae_DT)\n"
      ],
      "metadata": {
        "colab": {
          "base_uri": "https://localhost:8080/"
        },
        "id": "_BTtyjUb5Zru",
        "outputId": "e09222cf-1123-4e90-d248-60f118aec487"
      },
      "execution_count": null,
      "outputs": [
        {
          "output_type": "stream",
          "name": "stdout",
          "text": [
            "Accuracy: 0.8571428571428571\n",
            "F1_score :  0.6190476190476191\n",
            "Precision :  0.6666666666666666\n",
            "MSE :  0.14285714285714285\n",
            "RMSE :  0.3779644730092272\n",
            "MAE :  0.14285714285714285\n"
          ]
        }
      ]
    },
    {
      "cell_type": "code",
      "source": [
        "print(y_test.values)\n",
        "print(y_pred_DT)"
      ],
      "metadata": {
        "colab": {
          "base_uri": "https://localhost:8080/"
        },
        "id": "avvLPwtcH-78",
        "outputId": "7bdbfc6c-dd63-421f-a927-faef6b6c5074"
      },
      "execution_count": null,
      "outputs": [
        {
          "output_type": "stream",
          "name": "stdout",
          "text": [
            "[2 2 2 1 1 2 1]\n",
            "[2 3 2 1 1 2 1]\n"
          ]
        }
      ]
    },
    {
      "cell_type": "code",
      "source": [
        "report = classification_report(y_test, y_pred_DT)\n",
        "print(report)"
      ],
      "metadata": {
        "colab": {
          "base_uri": "https://localhost:8080/"
        },
        "id": "Fq-tPjNE0sQs",
        "outputId": "282f64f0-519b-423c-9bb2-7aed014d304b"
      },
      "execution_count": null,
      "outputs": [
        {
          "output_type": "stream",
          "name": "stdout",
          "text": [
            "              precision    recall  f1-score   support\n",
            "\n",
            "           1       1.00      1.00      1.00         3\n",
            "           2       1.00      0.75      0.86         4\n",
            "           3       0.00      0.00      0.00         0\n",
            "\n",
            "    accuracy                           0.86         7\n",
            "   macro avg       0.67      0.58      0.62         7\n",
            "weighted avg       1.00      0.86      0.92         7\n",
            "\n"
          ]
        },
        {
          "output_type": "stream",
          "name": "stderr",
          "text": [
            "/usr/local/lib/python3.10/dist-packages/sklearn/metrics/_classification.py:1344: UndefinedMetricWarning: Recall and F-score are ill-defined and being set to 0.0 in labels with no true samples. Use `zero_division` parameter to control this behavior.\n",
            "  _warn_prf(average, modifier, msg_start, len(result))\n",
            "/usr/local/lib/python3.10/dist-packages/sklearn/metrics/_classification.py:1344: UndefinedMetricWarning: Recall and F-score are ill-defined and being set to 0.0 in labels with no true samples. Use `zero_division` parameter to control this behavior.\n",
            "  _warn_prf(average, modifier, msg_start, len(result))\n",
            "/usr/local/lib/python3.10/dist-packages/sklearn/metrics/_classification.py:1344: UndefinedMetricWarning: Recall and F-score are ill-defined and being set to 0.0 in labels with no true samples. Use `zero_division` parameter to control this behavior.\n",
            "  _warn_prf(average, modifier, msg_start, len(result))\n"
          ]
        }
      ]
    },
    {
      "cell_type": "code",
      "source": [
        "# Binarize the true labels\n",
        "y_test_bin = np.where(y_test == 2, 1, 0)\n",
        "\n",
        "# Compute the probabilities for positive class\n",
        "y_scores = np.where(y_pred_DT == 2, 1, 0)\n",
        "\n",
        "# Calculate the False Positive Rate (FPR) and True Positive Rate (TPR)\n",
        "fpr, tpr, _ = metrics.roc_curve(y_test_bin, y_scores)\n",
        "\n",
        "# Calculate the Area Under the ROC Curve (AUC)\n",
        "roc_auc = metrics.auc(fpr, tpr)\n",
        "\n",
        "# Plot the ROC curve\n",
        "plt.plot(fpr, tpr, label='ROC curve')\n",
        "plt.plot([0, 1], [0, 1], 'k--')  # Diagonal line for random classifier\n",
        "plt.xlabel('False Positive Rate (FPR)')\n",
        "plt.ylabel('True Positive Rate (TPR)')\n",
        "plt.title('Receiver Operating Characteristic (ROC) Curve')\n",
        "plt.legend(loc='lower right')\n",
        "plt.show()"
      ],
      "metadata": {
        "colab": {
          "base_uri": "https://localhost:8080/",
          "height": 472
        },
        "id": "tUqslYkT1gLI",
        "outputId": "4a345d77-d442-43d8-ac01-603358e7126d"
      },
      "execution_count": null,
      "outputs": [
        {
          "output_type": "display_data",
          "data": {
            "text/plain": [
              "<Figure size 640x480 with 1 Axes>"
            ],
            "image/png": "[encoded data removed]"
          },
          "metadata": {}
        }
      ]
    },
    {
      "cell_type": "markdown",
      "source": [
        "Accuracy vs Accuracy"
      ],
      "metadata": {
        "id": "DVSBiqyR2S4z"
      }
    },
    {
      "cell_type": "code",
      "source": [
        "model_names = ['KNN', 'NaiveBayes', 'RandomForest','DecisionTree']\n",
        "accuracy_scores = [accuracy_KNN,accuracy_NaiveBayes,accuracy_RF,accuracy_DT]\n",
        "\n",
        "# Set the x-axis positions for the bars\n",
        "x = range(len(model_names))\n",
        "\n",
        "# Create a bar plot\n",
        "plt.bar(x, accuracy_scores)\n",
        "\n",
        "# Add x-axis labels, y-axis label, and title\n",
        "plt.xlabel('Models')\n",
        "plt.ylabel('Accuracy')\n",
        "plt.title('Accuracy Scores for Different Models')\n",
        "\n",
        "# Add model names as x-axis tick labels\n",
        "plt.xticks(x, model_names)\n",
        "\n",
        "# Display the plot\n",
        "plt.show()"
      ],
      "metadata": {
        "colab": {
          "base_uri": "https://localhost:8080/",
          "height": 472
        },
        "id": "RevZmAZs2NhD",
        "outputId": "a69fbebd-f1be-4a27-ac1c-edc698aab72c"
      },
      "execution_count": null,
      "outputs": [
        {
          "output_type": "display_data",
          "data": {
            "text/plain": [
              "<Figure size 640x480 with 1 Axes>"
            ],
            "image/png": "[encoded data removed]"
          },
          "metadata": {}
        }
      ]
    },
    {
      "cell_type": "code",
      "source": [
        "model_names = ['KNN', 'NaiveBayes', 'RandomForest','DecisionTree']\n",
        "accuracy_scores = [precision_KNN,precision_NaiveBayes,precision_RF,precision_DT]\n",
        "\n",
        "# Set the x-axis positions for the bars\n",
        "x = range(len(model_names))\n",
        "\n",
        "# Create a bar plot\n",
        "plt.bar(x, accuracy_scores)\n",
        "\n",
        "# Add x-axis labels, y-axis label, and title\n",
        "plt.xlabel('Models')\n",
        "plt.ylabel('precision')\n",
        "plt.title('Precision for Different Models')\n",
        "\n",
        "# Add model names as x-axis tick labels\n",
        "plt.xticks(x, model_names)\n",
        "\n",
        "# Display the plot\n",
        "plt.show()"
      ],
      "metadata": {
        "colab": {
          "base_uri": "https://localhost:8080/",
          "height": 472
        },
        "id": "Nb665t1X3qRN",
        "outputId": "67207661-7c02-4026-c8af-fe3731f3f742"
      },
      "execution_count": null,
      "outputs": [
        {
          "output_type": "display_data",
          "data": {
            "text/plain": [
              "<Figure size 640x480 with 1 Axes>"
            ],
            "image/png": "[encoded data removed]"
          },
          "metadata": {}
        }
      ]
    },
    {
      "cell_type": "code",
      "source": [
        "model_names = ['KNN', 'NaiveBayes', 'RandomForest','DecisionTree']\n",
        "accuracy_scores = [f1_score_KNN,f1_score_NaiveBayes,f1_score_RF,f1_score_DT]\n",
        "\n",
        "# Set the x-axis positions for the bars\n",
        "x = range(len(model_names))\n",
        "\n",
        "# Create a bar plot\n",
        "plt.bar(x, accuracy_scores)\n",
        "\n",
        "# Add x-axis labels, y-axis label, and title\n",
        "plt.xlabel('Models')\n",
        "plt.ylabel('f1_score')\n",
        "plt.title(' f1_score for Different Models')\n",
        "\n",
        "# Add model names as x-axis tick labels\n",
        "plt.xticks(x, model_names)\n",
        "\n",
        "# Display the plot\n",
        "plt.show()"
      ],
      "metadata": {
        "colab": {
          "base_uri": "https://localhost:8080/",
          "height": 472
        },
        "id": "Zyxjw7dY_Kam",
        "outputId": "be2e1499-d257-477a-80fd-4f1a6b825401"
      },
      "execution_count": null,
      "outputs": [
        {
          "output_type": "display_data",
          "data": {
            "text/plain": [
              "<Figure size 640x480 with 1 Axes>"
            ],
            "image/png": "[encoded data removed]"
          },
          "metadata": {}
        }
      ]
    },
    {
      "cell_type": "code",
      "source": [
        "model_names = ['KNN', 'NaiveBayes', 'RandomForest','DecisionTree']\n",
        "accuracy_scores = [mse_KNN,mse_NaiveBayes,mse_RF,mse_DT]\n",
        "\n",
        "# Set the x-axis positions for the bars\n",
        "x = range(len(model_names))\n",
        "\n",
        "# Create a bar plot\n",
        "plt.bar(x, accuracy_scores)\n",
        "\n",
        "# Add x-axis labels, y-axis label, and title\n",
        "plt.xlabel('Models')\n",
        "plt.ylabel('MSE')\n",
        "plt.title('MSE for Different Models')\n",
        "\n",
        "# Add model names as x-axis tick labels\n",
        "plt.xticks(x, model_names)\n",
        "\n",
        "# Display the plot\n",
        "plt.show()"
      ],
      "metadata": {
        "colab": {
          "base_uri": "https://localhost:8080/",
          "height": 472
        },
        "id": "UtetYKeA_OQP",
        "outputId": "5daa5fe1-69a8-447c-a350-2259b2679ca2"
      },
      "execution_count": null,
      "outputs": [
        {
          "output_type": "display_data",
          "data": {
            "text/plain": [
              "<Figure size 640x480 with 1 Axes>"
            ],
            "image/png": "[encoded data removed]"
          },
          "metadata": {}
        }
      ]
    },
    {
      "cell_type": "code",
      "source": [
        "model_names = ['KNN', 'NaiveBayes', 'RandomForest','DecisionTree']\n",
        "accuracy_scores = [rmse_KNN,rmse_NaiveBayes,rmse_RF,rmse_DT]\n",
        "\n",
        "# Set the x-axis positions for the bars\n",
        "x = range(len(model_names))\n",
        "\n",
        "# Create a bar plot\n",
        "plt.bar(x, accuracy_scores)\n",
        "\n",
        "# Add x-axis labels, y-axis label, and title\n",
        "plt.xlabel('Models')\n",
        "plt.ylabel('RMSE')\n",
        "plt.title('RMSE for Different Models')\n",
        "\n",
        "# Add model names as x-axis tick labels\n",
        "plt.xticks(x, model_names)\n",
        "\n",
        "# Display the plot\n",
        "plt.show()"
      ],
      "metadata": {
        "colab": {
          "base_uri": "https://localhost:8080/",
          "height": 472
        },
        "id": "djjiNT_X_QZz",
        "outputId": "a6544160-4e82-4a14-d410-f53afb05e582"
      },
      "execution_count": null,
      "outputs": [
        {
          "output_type": "display_data",
          "data": {
            "text/plain": [
              "<Figure size 640x480 with 1 Axes>"
            ],
            "image/png": "[encoded data removed]"
          },
          "metadata": {}
        }
      ]
    },
    {
      "cell_type": "code",
      "source": [
        "model_names = ['KNN', 'NaiveBayes', 'RandomForest','DecisionTree']\n",
        "accuracy_scores = [mae_KNN,mae_NaiveBayes,mae_RF,mae_DT]\n",
        "\n",
        "# Set the x-axis positions for the bars\n",
        "x = range(len(model_names))\n",
        "\n",
        "# Create a bar plot\n",
        "plt.bar(x, accuracy_scores)\n",
        "\n",
        "# Add x-axis labels, y-axis label, and title\n",
        "plt.xlabel('Models')\n",
        "plt.ylabel('MAE')\n",
        "plt.title('MAE for Different Models')\n",
        "\n",
        "# Add model names as x-axis tick labels\n",
        "plt.xticks(x, model_names)\n",
        "\n",
        "# Display the plot\n",
        "plt.show()"
      ],
      "metadata": {
        "colab": {
          "base_uri": "https://localhost:8080/",
          "height": 472
        },
        "id": "87vYC7zI_RDX",
        "outputId": "9296c7af-31ad-4809-cd4c-f6bcf82ecaa0"
      },
      "execution_count": null,
      "outputs": [
        {
          "output_type": "display_data",
          "data": {
            "text/plain": [
              "<Figure size 640x480 with 1 Axes>"
            ],
            "image/png": "[encoded data removed]"
          },
          "metadata": {}
        }
      ]
    },
    {
      "cell_type": "code",
      "source": [],
      "metadata": {
        "id": "FejNge8kA8zK"
      },
      "execution_count": null,
      "outputs": []
    }
  ]
}